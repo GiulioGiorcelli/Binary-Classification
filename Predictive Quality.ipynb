{
 "cells": [
  {
   "cell_type": "code",
   "execution_count": 2,
   "metadata": {
    "collapsed": true
   },
   "outputs": [],
   "source": [
    "import pandas as pd\n",
    "import numpy as np\n",
    "from sklearn.model_selection import train_test_split\n",
    "from sklearn.metrics import recall_score\n",
    "from imblearn.over_sampling import SMOTE"
   ]
  },
  {
   "cell_type": "code",
   "execution_count": 3,
   "metadata": {
    "collapsed": false,
    "scrolled": true
   },
   "outputs": [
    {
     "data": {
      "text/html": [
       "<div>\n",
       "<table border=\"1\" class=\"dataframe\">\n",
       "  <thead>\n",
       "    <tr style=\"text-align: right;\">\n",
       "      <th></th>\n",
       "      <th>SR_1.0</th>\n",
       "      <th>SR_2.0</th>\n",
       "      <th>SR_3.0</th>\n",
       "      <th>REGION_E_NORTH_CENTRAL</th>\n",
       "      <th>REGION_E_SOUTH_CENTRAL</th>\n",
       "      <th>REGION_MID_ATLANTIC</th>\n",
       "      <th>REGION_MOUNTAIN</th>\n",
       "      <th>REGION_NEW_ENGLAND</th>\n",
       "      <th>REGION_PACIFIC</th>\n",
       "      <th>REGION_SOUTH_ATLANTIC</th>\n",
       "      <th>...</th>\n",
       "      <th>USABLEDISPLAYHEIGHT</th>\n",
       "      <th>DISPLAYPPI</th>\n",
       "      <th>DIAGONALSCREENSIZE</th>\n",
       "      <th>VETERAN_FLG</th>\n",
       "      <th>REPEATINQUIRIES</th>\n",
       "      <th>APPLICATIONS</th>\n",
       "      <th>FOLDERLEAD</th>\n",
       "      <th>CLOSEDLEAD</th>\n",
       "      <th>CONTACTS</th>\n",
       "      <th>CREDITPULLS</th>\n",
       "    </tr>\n",
       "  </thead>\n",
       "  <tbody>\n",
       "    <tr>\n",
       "      <th>0</th>\n",
       "      <td>0</td>\n",
       "      <td>1</td>\n",
       "      <td>0</td>\n",
       "      <td>0</td>\n",
       "      <td>0</td>\n",
       "      <td>0</td>\n",
       "      <td>0</td>\n",
       "      <td>0</td>\n",
       "      <td>0</td>\n",
       "      <td>1</td>\n",
       "      <td>...</td>\n",
       "      <td>3</td>\n",
       "      <td>0</td>\n",
       "      <td>2</td>\n",
       "      <td>0</td>\n",
       "      <td>0</td>\n",
       "      <td>0</td>\n",
       "      <td>0.0</td>\n",
       "      <td>0.0</td>\n",
       "      <td>NaN</td>\n",
       "      <td>0.0</td>\n",
       "    </tr>\n",
       "    <tr>\n",
       "      <th>1</th>\n",
       "      <td>0</td>\n",
       "      <td>0</td>\n",
       "      <td>1</td>\n",
       "      <td>0</td>\n",
       "      <td>0</td>\n",
       "      <td>0</td>\n",
       "      <td>0</td>\n",
       "      <td>0</td>\n",
       "      <td>0</td>\n",
       "      <td>0</td>\n",
       "      <td>...</td>\n",
       "      <td>3</td>\n",
       "      <td>0</td>\n",
       "      <td>2</td>\n",
       "      <td>0</td>\n",
       "      <td>1</td>\n",
       "      <td>0</td>\n",
       "      <td>0.0</td>\n",
       "      <td>0.0</td>\n",
       "      <td>NaN</td>\n",
       "      <td>0.0</td>\n",
       "    </tr>\n",
       "    <tr>\n",
       "      <th>2</th>\n",
       "      <td>0</td>\n",
       "      <td>0</td>\n",
       "      <td>1</td>\n",
       "      <td>0</td>\n",
       "      <td>0</td>\n",
       "      <td>0</td>\n",
       "      <td>0</td>\n",
       "      <td>0</td>\n",
       "      <td>0</td>\n",
       "      <td>0</td>\n",
       "      <td>...</td>\n",
       "      <td>4</td>\n",
       "      <td>0</td>\n",
       "      <td>2</td>\n",
       "      <td>0</td>\n",
       "      <td>0</td>\n",
       "      <td>0</td>\n",
       "      <td>0.0</td>\n",
       "      <td>0.0</td>\n",
       "      <td>NaN</td>\n",
       "      <td>0.0</td>\n",
       "    </tr>\n",
       "    <tr>\n",
       "      <th>3</th>\n",
       "      <td>0</td>\n",
       "      <td>1</td>\n",
       "      <td>0</td>\n",
       "      <td>0</td>\n",
       "      <td>0</td>\n",
       "      <td>0</td>\n",
       "      <td>0</td>\n",
       "      <td>0</td>\n",
       "      <td>1</td>\n",
       "      <td>0</td>\n",
       "      <td>...</td>\n",
       "      <td>3</td>\n",
       "      <td>0</td>\n",
       "      <td>2</td>\n",
       "      <td>0</td>\n",
       "      <td>1</td>\n",
       "      <td>0</td>\n",
       "      <td>0.0</td>\n",
       "      <td>0.0</td>\n",
       "      <td>NaN</td>\n",
       "      <td>0.0</td>\n",
       "    </tr>\n",
       "    <tr>\n",
       "      <th>4</th>\n",
       "      <td>1</td>\n",
       "      <td>0</td>\n",
       "      <td>0</td>\n",
       "      <td>0</td>\n",
       "      <td>0</td>\n",
       "      <td>1</td>\n",
       "      <td>0</td>\n",
       "      <td>0</td>\n",
       "      <td>0</td>\n",
       "      <td>0</td>\n",
       "      <td>...</td>\n",
       "      <td>3</td>\n",
       "      <td>0</td>\n",
       "      <td>2</td>\n",
       "      <td>0</td>\n",
       "      <td>0</td>\n",
       "      <td>0</td>\n",
       "      <td>0.0</td>\n",
       "      <td>0.0</td>\n",
       "      <td>NaN</td>\n",
       "      <td>0.0</td>\n",
       "    </tr>\n",
       "  </tbody>\n",
       "</table>\n",
       "<p>5 rows × 113 columns</p>\n",
       "</div>"
      ],
      "text/plain": [
       "   SR_1.0  SR_2.0  SR_3.0  REGION_E_NORTH_CENTRAL  REGION_E_SOUTH_CENTRAL  \\\n",
       "0       0       1       0                       0                       0   \n",
       "1       0       0       1                       0                       0   \n",
       "2       0       0       1                       0                       0   \n",
       "3       0       1       0                       0                       0   \n",
       "4       1       0       0                       0                       0   \n",
       "\n",
       "   REGION_MID_ATLANTIC  REGION_MOUNTAIN  REGION_NEW_ENGLAND  REGION_PACIFIC  \\\n",
       "0                    0                0                   0               0   \n",
       "1                    0                0                   0               0   \n",
       "2                    0                0                   0               0   \n",
       "3                    0                0                   0               1   \n",
       "4                    1                0                   0               0   \n",
       "\n",
       "   REGION_SOUTH_ATLANTIC     ...       USABLEDISPLAYHEIGHT  DISPLAYPPI  \\\n",
       "0                      1     ...                         3           0   \n",
       "1                      0     ...                         3           0   \n",
       "2                      0     ...                         4           0   \n",
       "3                      0     ...                         3           0   \n",
       "4                      0     ...                         3           0   \n",
       "\n",
       "   DIAGONALSCREENSIZE  VETERAN_FLG  REPEATINQUIRIES  APPLICATIONS  FOLDERLEAD  \\\n",
       "0                   2            0                0             0         0.0   \n",
       "1                   2            0                1             0         0.0   \n",
       "2                   2            0                0             0         0.0   \n",
       "3                   2            0                1             0         0.0   \n",
       "4                   2            0                0             0         0.0   \n",
       "\n",
       "   CLOSEDLEAD  CONTACTS  CREDITPULLS  \n",
       "0         0.0       NaN          0.0  \n",
       "1         0.0       NaN          0.0  \n",
       "2         0.0       NaN          0.0  \n",
       "3         0.0       NaN          0.0  \n",
       "4         0.0       NaN          0.0  \n",
       "\n",
       "[5 rows x 113 columns]"
      ]
     },
     "execution_count": 3,
     "metadata": {},
     "output_type": "execute_result"
    }
   ],
   "source": [
    "#Load dataset\n",
    "df = pd.read_pickle('df_for_training')\n",
    "df.head(5)"
   ]
  },
  {
   "cell_type": "code",
   "execution_count": 5,
   "metadata": {
    "collapsed": false
   },
   "outputs": [
    {
     "data": {
      "text/plain": [
       "0    1007619\n",
       "1      16420\n",
       "Name: APPLICATIONS, dtype: int64"
      ]
     },
     "execution_count": 5,
     "metadata": {},
     "output_type": "execute_result"
    }
   ],
   "source": [
    "df.APPLICATIONS.value_counts()"
   ]
  },
  {
   "cell_type": "code",
   "execution_count": null,
   "metadata": {
    "collapsed": true
   },
   "outputs": [],
   "source": [
    "#####\n",
    "##\n",
    "## The first issue that needs to be tackled is the class imbalance\n",
    "## I'll start with creating a subset of ~16000 samples to both classes\n",
    "##\n",
    "####"
   ]
  },
  {
   "cell_type": "code",
   "execution_count": 10,
   "metadata": {
    "collapsed": false
   },
   "outputs": [],
   "source": [
    "#Splitting train and test\n",
    "training_features, test_features, \\\n",
    "training_target, test_target, = train_test_split(df.drop(['APPLICATIONS'], axis=1),\n",
    "                                               df['APPLICATIONS'],\n",
    "                                               test_size = .018,\n",
    "                                               random_state=12)"
   ]
  },
  {
   "cell_type": "code",
   "execution_count": 41,
   "metadata": {
    "collapsed": false
   },
   "outputs": [
    {
     "data": {
      "text/plain": [
       "0    18126\n",
       "1      307\n",
       "Name: APPLICATIONS, dtype: int64"
      ]
     },
     "execution_count": 41,
     "metadata": {},
     "output_type": "execute_result"
    }
   ],
   "source": [
    "test_target.value_counts()"
   ]
  },
  {
   "cell_type": "code",
   "execution_count": 11,
   "metadata": {
    "collapsed": false
   },
   "outputs": [],
   "source": [
    "x_train, x_val, y_train, y_val = train_test_split(training_features, training_target,\n",
    "                                                  test_size = 0.18,\n",
    "                                                  random_state=12)"
   ]
  },
  {
   "cell_type": "code",
   "execution_count": 36,
   "metadata": {
    "collapsed": false
   },
   "outputs": [
    {
     "data": {
      "text/plain": [
       "SR_1.0                              False\n",
       "SR_2.0                              False\n",
       "SR_3.0                              False\n",
       "REGION_E_NORTH_CENTRAL              False\n",
       "REGION_E_SOUTH_CENTRAL              False\n",
       "REGION_MID_ATLANTIC                 False\n",
       "REGION_MOUNTAIN                     False\n",
       "REGION_NEW_ENGLAND                  False\n",
       "REGION_PACIFIC                      False\n",
       "REGION_SOUTH_ATLANTIC               False\n",
       "REGION_W_NORTH_CENTRAL              False\n",
       "REGION_W_SOUTH_CENTRAL              False\n",
       "CASH_OUT_LFG                        False\n",
       "REPEATINQUIRIES_1                   False\n",
       "LOG_MSA_POP                         False\n",
       "LOG_LAND_AREA                       False\n",
       "H_ID_0                              False\n",
       "H_ID_1                              False\n",
       "H_ID_2                              False\n",
       "H_ID_3                              False\n",
       "H_ID_4                              False\n",
       "H_ID_5                              False\n",
       "H_ID_6                              False\n",
       "H_ID_7                              False\n",
       "DOW_1.0                             False\n",
       "DOW_2.0                             False\n",
       "DOW_3.0                             False\n",
       "DOW_4.0                             False\n",
       "DOW_5.0                             False\n",
       "DOW_6.0                             False\n",
       "DOW_7.0                             False\n",
       "CHANNEL_Other                       False\n",
       "CHANNEL_affiliate                   False\n",
       "CHANNEL_media                       False\n",
       "CHANNEL_native                      False\n",
       "CHANNEL_searchengine                False\n",
       "CHANNEL_social                      False\n",
       "P_CARRIER_AT&T                      False\n",
       "P_CARRIER_Other                     False\n",
       "P_CARRIER_Sprint                    False\n",
       "P_CARRIER_Verizon                   False\n",
       "COUNTRY_Other                       False\n",
       "COUNTRY_US                          False\n",
       "SESSION_TIME_DUMMY_0                False\n",
       "SESSION_TIME_DUMMY_1                False\n",
       "SESSION_TIME_DUMMY_2                False\n",
       "SESSION_TIME_DUMMY_3                False\n",
       "SESSION_TIME_DUMMY_4                False\n",
       "SESSION_TIME_DUMMY_5                False\n",
       "SESSION_TIME_DUMMY_6                False\n",
       "SESSION_TIME_DUMMY_7                False\n",
       "SESSION_TIME_DUMMY_8                False\n",
       "SESSION_TIME_DUMMY_9                False\n",
       "BROWSER_Chrome                      False\n",
       "BROWSER_Chrome_Mobile               False\n",
       "BROWSER_Edge                        False\n",
       "BROWSER_Firefox                     False\n",
       "BROWSER_Internet_Explorer           False\n",
       "BROWSER_Internet_Explorer_Mobile    False\n",
       "BROWSER_Other                       False\n",
       "BROWSER_Safari                      False\n",
       "BROWSER_Samsung_Browser             False\n",
       "DEVICE_MAKE_Apple                   False\n",
       "DEVICE_MAKE_HTC_Google              False\n",
       "DEVICE_MAKE_LG                      False\n",
       "DEVICE_MAKE_Microsoft               False\n",
       "DEVICE_MAKE_Motorola                False\n",
       "DEVICE_MAKE_Other                   False\n",
       "DEVICE_MAKE_Samsung                 False\n",
       "DEVICE_MAKE_ZTE                     False\n",
       "Unemployed                          False\n",
       "OS__Android.                        False\n",
       "OS__Apple.                          False\n",
       "OS__Other.                          False\n",
       "OS__Windows.                        False\n",
       "DEVICE_Desktop                      False\n",
       "DEVICE_Mobile Phone                 False\n",
       "DEVICE_Tablet                       False\n",
       "PHONE_TYPE_Land_Line                False\n",
       "PHONE_TYPE_Other                    False\n",
       "PHONE_TYPE_Wireless                 False\n",
       "SITE_aol                            False\n",
       "SITE_facebook                       False\n",
       "SITE_google                         False\n",
       "SITE_instagram                      False\n",
       "SITE_msn                            False\n",
       "SITE_other                          False\n",
       "SITE_pinterest                      False\n",
       "SITE_taboola                        False\n",
       "SITE_yahoo                          False\n",
       "M                                   False\n",
       "LOAN_AMT_NEEDED_LOG                 False\n",
       "CREATIVE_CAT_LRE                    False\n",
       "CREATIVE_CAT_MSQL                   False\n",
       "CREATIVE_CAT_MSQL-LEND              False\n",
       "CREDIT_PROFILE_PARENT_DESC          False\n",
       "PROPERTY_MORTGAGE_1_INT             False\n",
       "CASH_OUT_FLG                        False\n",
       "CASH_IN_FLG                         False\n",
       "USAA_FLG                            False\n",
       "AGE                                 False\n",
       "OCCUPATION_STATUS_PARENT_DESC       False\n",
       "USABLEDISPLAYWIDTH                  False\n",
       "USABLEDISPLAYHEIGHT                 False\n",
       "DISPLAYPPI                          False\n",
       "DIAGONALSCREENSIZE                  False\n",
       "VETERAN_FLG                         False\n",
       "REPEATINQUIRIES                     False\n",
       "FOLDERLEAD                           True\n",
       "CLOSEDLEAD                           True\n",
       "CONTACTS                             True\n",
       "CREDITPULLS                          True\n",
       "dtype: bool"
      ]
     },
     "execution_count": 36,
     "metadata": {},
     "output_type": "execute_result"
    }
   ],
   "source": [
    "np.isnan(x_train).any()"
   ]
  },
  {
   "cell_type": "code",
   "execution_count": 6,
   "metadata": {
    "collapsed": false
   },
   "outputs": [],
   "source": [
    "df.drop('FOLDERLEAD',axis=1,inplace=True)\n",
    "df.drop('CLOSEDLEAD',axis=1,inplace=True)\n",
    "df.drop('CONTACTS',axis=1,inplace=True)\n",
    "df.drop('CREDITPULLS',axis=1,inplace=True)"
   ]
  },
  {
   "cell_type": "code",
   "execution_count": 12,
   "metadata": {
    "collapsed": false
   },
   "outputs": [],
   "source": [
    "#Using Synthetic Minority Over-Sampling techinque to balance the classes\n",
    "sm = SMOTE(random_state=12, ratio = 1.0)\n",
    "x_train_res, y_train_res = sm.fit_sample(x_train, y_train)"
   ]
  },
  {
   "cell_type": "code",
   "execution_count": 58,
   "metadata": {
    "collapsed": false
   },
   "outputs": [
    {
     "name": "stdout",
     "output_type": "stream",
     "text": [
      "Y=1 in raw train subset: 13232\n",
      "Y=1 in resampled train subset: 811364\n"
     ]
    }
   ],
   "source": [
    "#Check SMOTE results\n",
    "print(\"Y=1 in raw train subset:\", y_train.sum()) \n",
    "print(\"Y=1 in resampled train subset:\", y_train_res.sum())"
   ]
  },
  {
   "cell_type": "code",
   "execution_count": 60,
   "metadata": {
    "collapsed": false
   },
   "outputs": [
    {
     "data": {
      "text/plain": [
       "0.68990181965184549"
      ]
     },
     "execution_count": 60,
     "metadata": {},
     "output_type": "execute_result"
    }
   ],
   "source": [
    "####\n",
    "## Lets see how it does with logistic regression\n",
    "####\n",
    "\n",
    "#Import libraries\n",
    "from sklearn.linear_model import LogisticRegression\n",
    "from sklearn import metrics\n",
    "from sklearn.cross_validation import cross_val_score\n",
    "\n",
    "#Create model\n",
    "model = LogisticRegression()\n",
    "model = model.fit(x_train_res, y_train_res)\n",
    "\n",
    "#Check the accuracy on the training set\n",
    "model.score(x_train_res, y_train_res)"
   ]
  },
  {
   "cell_type": "code",
   "execution_count": 100,
   "metadata": {
    "collapsed": false
   },
   "outputs": [
    {
     "data": {
      "text/plain": [
       "0.6316999060825369"
      ]
     },
     "execution_count": 100,
     "metadata": {},
     "output_type": "execute_result"
    }
   ],
   "source": [
    "model.score(x_val, y_val)"
   ]
  },
  {
   "cell_type": "code",
   "execution_count": 61,
   "metadata": {
    "collapsed": false
   },
   "outputs": [
    {
     "data": {
      "text/plain": [
       "0.5"
      ]
     },
     "execution_count": 61,
     "metadata": {},
     "output_type": "execute_result"
    }
   ],
   "source": [
    "#With a vanilla logistic reg model without gradient descent we're doing much better than\n",
    "y_train_res.mean()"
   ]
  },
  {
   "cell_type": "code",
   "execution_count": 71,
   "metadata": {
    "collapsed": false
   },
   "outputs": [
    {
     "data": {
      "text/html": [
       "<div>\n",
       "<style>\n",
       "    .dataframe thead tr:only-child th {\n",
       "        text-align: right;\n",
       "    }\n",
       "\n",
       "    .dataframe thead th {\n",
       "        text-align: left;\n",
       "    }\n",
       "\n",
       "    .dataframe tbody tr th {\n",
       "        vertical-align: top;\n",
       "    }\n",
       "</style>\n",
       "<table border=\"1\" class=\"dataframe\">\n",
       "  <thead>\n",
       "    <tr style=\"text-align: right;\">\n",
       "      <th></th>\n",
       "      <th>0</th>\n",
       "      <th>1</th>\n",
       "    </tr>\n",
       "  </thead>\n",
       "  <tbody>\n",
       "    <tr>\n",
       "      <th>0</th>\n",
       "      <td>SR_1.0</td>\n",
       "      <td>[0.151689109138]</td>\n",
       "    </tr>\n",
       "    <tr>\n",
       "      <th>1</th>\n",
       "      <td>SR_2.0</td>\n",
       "      <td>[0.185245431214]</td>\n",
       "    </tr>\n",
       "    <tr>\n",
       "      <th>2</th>\n",
       "      <td>SR_3.0</td>\n",
       "      <td>[-0.0223923939263]</td>\n",
       "    </tr>\n",
       "    <tr>\n",
       "      <th>3</th>\n",
       "      <td>REGION_E_NORTH_CENTRAL</td>\n",
       "      <td>[0.363622794925]</td>\n",
       "    </tr>\n",
       "    <tr>\n",
       "      <th>4</th>\n",
       "      <td>REGION_E_SOUTH_CENTRAL</td>\n",
       "      <td>[0.0952743739518]</td>\n",
       "    </tr>\n",
       "    <tr>\n",
       "      <th>5</th>\n",
       "      <td>REGION_MID_ATLANTIC</td>\n",
       "      <td>[0.140327185215]</td>\n",
       "    </tr>\n",
       "    <tr>\n",
       "      <th>6</th>\n",
       "      <td>REGION_MOUNTAIN</td>\n",
       "      <td>[0.0840486052778]</td>\n",
       "    </tr>\n",
       "    <tr>\n",
       "      <th>7</th>\n",
       "      <td>REGION_NEW_ENGLAND</td>\n",
       "      <td>[0.109316439523]</td>\n",
       "    </tr>\n",
       "    <tr>\n",
       "      <th>8</th>\n",
       "      <td>REGION_PACIFIC</td>\n",
       "      <td>[-0.011178854417]</td>\n",
       "    </tr>\n",
       "    <tr>\n",
       "      <th>9</th>\n",
       "      <td>REGION_SOUTH_ATLANTIC</td>\n",
       "      <td>[0.2884907567]</td>\n",
       "    </tr>\n",
       "    <tr>\n",
       "      <th>10</th>\n",
       "      <td>REGION_W_NORTH_CENTRAL</td>\n",
       "      <td>[0.38546241143]</td>\n",
       "    </tr>\n",
       "    <tr>\n",
       "      <th>11</th>\n",
       "      <td>REGION_W_SOUTH_CENTRAL</td>\n",
       "      <td>[0.16876591244]</td>\n",
       "    </tr>\n",
       "    <tr>\n",
       "      <th>12</th>\n",
       "      <td>CASH_OUT_LFG</td>\n",
       "      <td>[0.262696025428]</td>\n",
       "    </tr>\n",
       "    <tr>\n",
       "      <th>13</th>\n",
       "      <td>REPEATINQUIRIES_1</td>\n",
       "      <td>[-0.0780832287821]</td>\n",
       "    </tr>\n",
       "    <tr>\n",
       "      <th>14</th>\n",
       "      <td>LOG_MSA_POP</td>\n",
       "      <td>[-0.00344181881613]</td>\n",
       "    </tr>\n",
       "    <tr>\n",
       "      <th>15</th>\n",
       "      <td>LOG_LAND_AREA</td>\n",
       "      <td>[0.0354966379281]</td>\n",
       "    </tr>\n",
       "    <tr>\n",
       "      <th>16</th>\n",
       "      <td>H_ID_0</td>\n",
       "      <td>[-0.482253049374]</td>\n",
       "    </tr>\n",
       "    <tr>\n",
       "      <th>17</th>\n",
       "      <td>H_ID_1</td>\n",
       "      <td>[-0.233038940896]</td>\n",
       "    </tr>\n",
       "    <tr>\n",
       "      <th>18</th>\n",
       "      <td>H_ID_2</td>\n",
       "      <td>[-0.0962518887605]</td>\n",
       "    </tr>\n",
       "    <tr>\n",
       "      <th>19</th>\n",
       "      <td>H_ID_3</td>\n",
       "      <td>[-0.111603455703]</td>\n",
       "    </tr>\n",
       "    <tr>\n",
       "      <th>20</th>\n",
       "      <td>H_ID_4</td>\n",
       "      <td>[-0.16170763389]</td>\n",
       "    </tr>\n",
       "    <tr>\n",
       "      <th>21</th>\n",
       "      <td>H_ID_5</td>\n",
       "      <td>[-0.22657824955]</td>\n",
       "    </tr>\n",
       "    <tr>\n",
       "      <th>22</th>\n",
       "      <td>H_ID_6</td>\n",
       "      <td>[-0.403270548112]</td>\n",
       "    </tr>\n",
       "    <tr>\n",
       "      <th>23</th>\n",
       "      <td>H_ID_7</td>\n",
       "      <td>[-0.680867551778]</td>\n",
       "    </tr>\n",
       "    <tr>\n",
       "      <th>24</th>\n",
       "      <td>DOW_1.0</td>\n",
       "      <td>[-0.375945541498]</td>\n",
       "    </tr>\n",
       "    <tr>\n",
       "      <th>25</th>\n",
       "      <td>DOW_2.0</td>\n",
       "      <td>[-0.387037653366]</td>\n",
       "    </tr>\n",
       "    <tr>\n",
       "      <th>26</th>\n",
       "      <td>DOW_3.0</td>\n",
       "      <td>[-0.320036331784]</td>\n",
       "    </tr>\n",
       "    <tr>\n",
       "      <th>27</th>\n",
       "      <td>DOW_4.0</td>\n",
       "      <td>[-0.327097083879]</td>\n",
       "    </tr>\n",
       "    <tr>\n",
       "      <th>28</th>\n",
       "      <td>DOW_5.0</td>\n",
       "      <td>[-0.386716968535]</td>\n",
       "    </tr>\n",
       "    <tr>\n",
       "      <th>29</th>\n",
       "      <td>DOW_6.0</td>\n",
       "      <td>[-0.301764436005]</td>\n",
       "    </tr>\n",
       "    <tr>\n",
       "      <th>30</th>\n",
       "      <td>DOW_7.0</td>\n",
       "      <td>[-0.296973303307]</td>\n",
       "    </tr>\n",
       "    <tr>\n",
       "      <th>31</th>\n",
       "      <td>CHANNEL_Other</td>\n",
       "      <td>[0.337494437138]</td>\n",
       "    </tr>\n",
       "    <tr>\n",
       "      <th>32</th>\n",
       "      <td>CHANNEL_affiliate</td>\n",
       "      <td>[-0.866476194447]</td>\n",
       "    </tr>\n",
       "    <tr>\n",
       "      <th>33</th>\n",
       "      <td>CHANNEL_media</td>\n",
       "      <td>[-0.487927527744]</td>\n",
       "    </tr>\n",
       "    <tr>\n",
       "      <th>34</th>\n",
       "      <td>CHANNEL_native</td>\n",
       "      <td>[-0.441343426165]</td>\n",
       "    </tr>\n",
       "    <tr>\n",
       "      <th>35</th>\n",
       "      <td>CHANNEL_searchengine</td>\n",
       "      <td>[-0.250502436076]</td>\n",
       "    </tr>\n",
       "    <tr>\n",
       "      <th>36</th>\n",
       "      <td>CHANNEL_social</td>\n",
       "      <td>[-0.686816171637]</td>\n",
       "    </tr>\n",
       "    <tr>\n",
       "      <th>37</th>\n",
       "      <td>P_CARRIER_AT&amp;T</td>\n",
       "      <td>[-1.33629954299]</td>\n",
       "    </tr>\n",
       "    <tr>\n",
       "      <th>38</th>\n",
       "      <td>P_CARRIER_Other</td>\n",
       "      <td>[0.248323732056]</td>\n",
       "    </tr>\n",
       "    <tr>\n",
       "      <th>39</th>\n",
       "      <td>P_CARRIER_Sprint</td>\n",
       "      <td>[0.0311456909686]</td>\n",
       "    </tr>\n",
       "    <tr>\n",
       "      <th>40</th>\n",
       "      <td>P_CARRIER_Verizon</td>\n",
       "      <td>[-1.33874120137]</td>\n",
       "    </tr>\n",
       "    <tr>\n",
       "      <th>41</th>\n",
       "      <td>COUNTRY_Other</td>\n",
       "      <td>[-3.94384286505]</td>\n",
       "    </tr>\n",
       "    <tr>\n",
       "      <th>42</th>\n",
       "      <td>COUNTRY_US</td>\n",
       "      <td>[1.54827154104]</td>\n",
       "    </tr>\n",
       "    <tr>\n",
       "      <th>43</th>\n",
       "      <td>SESSION_TIME_DUMMY_0</td>\n",
       "      <td>[-2.05323092299]</td>\n",
       "    </tr>\n",
       "    <tr>\n",
       "      <th>44</th>\n",
       "      <td>SESSION_TIME_DUMMY_1</td>\n",
       "      <td>[-1.37654741077]</td>\n",
       "    </tr>\n",
       "    <tr>\n",
       "      <th>45</th>\n",
       "      <td>SESSION_TIME_DUMMY_2</td>\n",
       "      <td>[-1.1120173008]</td>\n",
       "    </tr>\n",
       "    <tr>\n",
       "      <th>46</th>\n",
       "      <td>SESSION_TIME_DUMMY_3</td>\n",
       "      <td>[-0.963789927483]</td>\n",
       "    </tr>\n",
       "    <tr>\n",
       "      <th>47</th>\n",
       "      <td>SESSION_TIME_DUMMY_4</td>\n",
       "      <td>[-0.900359998799]</td>\n",
       "    </tr>\n",
       "    <tr>\n",
       "      <th>48</th>\n",
       "      <td>SESSION_TIME_DUMMY_5</td>\n",
       "      <td>[-0.901499008532]</td>\n",
       "    </tr>\n",
       "    <tr>\n",
       "      <th>49</th>\n",
       "      <td>SESSION_TIME_DUMMY_6</td>\n",
       "      <td>[-0.797314207495]</td>\n",
       "    </tr>\n",
       "    <tr>\n",
       "      <th>50</th>\n",
       "      <td>SESSION_TIME_DUMMY_7</td>\n",
       "      <td>[-0.618621819584]</td>\n",
       "    </tr>\n",
       "    <tr>\n",
       "      <th>51</th>\n",
       "      <td>SESSION_TIME_DUMMY_8</td>\n",
       "      <td>[-0.553423756971]</td>\n",
       "    </tr>\n",
       "    <tr>\n",
       "      <th>52</th>\n",
       "      <td>SESSION_TIME_DUMMY_9</td>\n",
       "      <td>[-0.772456132983]</td>\n",
       "    </tr>\n",
       "    <tr>\n",
       "      <th>53</th>\n",
       "      <td>BROWSER_Chrome</td>\n",
       "      <td>[-0.100248592031]</td>\n",
       "    </tr>\n",
       "    <tr>\n",
       "      <th>54</th>\n",
       "      <td>BROWSER_Chrome_Mobile</td>\n",
       "      <td>[-0.265717133608]</td>\n",
       "    </tr>\n",
       "    <tr>\n",
       "      <th>55</th>\n",
       "      <td>BROWSER_Edge</td>\n",
       "      <td>[0.0203972698621]</td>\n",
       "    </tr>\n",
       "    <tr>\n",
       "      <th>56</th>\n",
       "      <td>BROWSER_Firefox</td>\n",
       "      <td>[-0.251842922286]</td>\n",
       "    </tr>\n",
       "    <tr>\n",
       "      <th>57</th>\n",
       "      <td>BROWSER_Internet_Explorer</td>\n",
       "      <td>[-0.161133728782]</td>\n",
       "    </tr>\n",
       "    <tr>\n",
       "      <th>58</th>\n",
       "      <td>BROWSER_Internet_Explorer_Mobile</td>\n",
       "      <td>[-0.863080889892]</td>\n",
       "    </tr>\n",
       "    <tr>\n",
       "      <th>59</th>\n",
       "      <td>BROWSER_Other</td>\n",
       "      <td>[-0.304848580066]</td>\n",
       "    </tr>\n",
       "    <tr>\n",
       "      <th>60</th>\n",
       "      <td>BROWSER_Safari</td>\n",
       "      <td>[0.0886605035143]</td>\n",
       "    </tr>\n",
       "    <tr>\n",
       "      <th>61</th>\n",
       "      <td>BROWSER_Samsung_Browser</td>\n",
       "      <td>[-0.557757244831]</td>\n",
       "    </tr>\n",
       "    <tr>\n",
       "      <th>62</th>\n",
       "      <td>DEVICE_MAKE_Apple</td>\n",
       "      <td>[-0.297964183888]</td>\n",
       "    </tr>\n",
       "    <tr>\n",
       "      <th>63</th>\n",
       "      <td>DEVICE_MAKE_HTC_Google</td>\n",
       "      <td>[-0.570630285588]</td>\n",
       "    </tr>\n",
       "    <tr>\n",
       "      <th>64</th>\n",
       "      <td>DEVICE_MAKE_LG</td>\n",
       "      <td>[-0.269921415117]</td>\n",
       "    </tr>\n",
       "    <tr>\n",
       "      <th>65</th>\n",
       "      <td>DEVICE_MAKE_Microsoft</td>\n",
       "      <td>[-0.392088035824]</td>\n",
       "    </tr>\n",
       "    <tr>\n",
       "      <th>66</th>\n",
       "      <td>DEVICE_MAKE_Motorola</td>\n",
       "      <td>[0.12133799807]</td>\n",
       "    </tr>\n",
       "    <tr>\n",
       "      <th>67</th>\n",
       "      <td>DEVICE_MAKE_Other</td>\n",
       "      <td>[-0.276716170795]</td>\n",
       "    </tr>\n",
       "    <tr>\n",
       "      <th>68</th>\n",
       "      <td>DEVICE_MAKE_Samsung</td>\n",
       "      <td>[0.070460221758]</td>\n",
       "    </tr>\n",
       "    <tr>\n",
       "      <th>69</th>\n",
       "      <td>DEVICE_MAKE_ZTE</td>\n",
       "      <td>[-0.780049447131]</td>\n",
       "    </tr>\n",
       "    <tr>\n",
       "      <th>70</th>\n",
       "      <td>Unemployed</td>\n",
       "      <td>[-0.727366395683]</td>\n",
       "    </tr>\n",
       "    <tr>\n",
       "      <th>71</th>\n",
       "      <td>OS__Android.</td>\n",
       "      <td>[-0.419787730508]</td>\n",
       "    </tr>\n",
       "    <tr>\n",
       "      <th>72</th>\n",
       "      <td>OS__Apple.</td>\n",
       "      <td>[-0.512170761024]</td>\n",
       "    </tr>\n",
       "    <tr>\n",
       "      <th>73</th>\n",
       "      <td>OS__Other.</td>\n",
       "      <td>[-1.45982768124]</td>\n",
       "    </tr>\n",
       "    <tr>\n",
       "      <th>74</th>\n",
       "      <td>OS__Windows.</td>\n",
       "      <td>[-0.00378514589312]</td>\n",
       "    </tr>\n",
       "    <tr>\n",
       "      <th>75</th>\n",
       "      <td>DEVICE_Desktop</td>\n",
       "      <td>[-0.625888708319]</td>\n",
       "    </tr>\n",
       "    <tr>\n",
       "      <th>76</th>\n",
       "      <td>DEVICE_Mobile Phone</td>\n",
       "      <td>[-0.843602696197]</td>\n",
       "    </tr>\n",
       "    <tr>\n",
       "      <th>77</th>\n",
       "      <td>DEVICE_Tablet</td>\n",
       "      <td>[-0.92607991448]</td>\n",
       "    </tr>\n",
       "    <tr>\n",
       "      <th>78</th>\n",
       "      <td>PHONE_TYPE_Land_Line</td>\n",
       "      <td>[-0.715070464771]</td>\n",
       "    </tr>\n",
       "    <tr>\n",
       "      <th>79</th>\n",
       "      <td>PHONE_TYPE_Other</td>\n",
       "      <td>[-1.53547223303]</td>\n",
       "    </tr>\n",
       "    <tr>\n",
       "      <th>80</th>\n",
       "      <td>PHONE_TYPE_Wireless</td>\n",
       "      <td>[-0.145028620163]</td>\n",
       "    </tr>\n",
       "    <tr>\n",
       "      <th>81</th>\n",
       "      <td>SITE_aol</td>\n",
       "      <td>[-0.336915626466]</td>\n",
       "    </tr>\n",
       "    <tr>\n",
       "      <th>82</th>\n",
       "      <td>SITE_facebook</td>\n",
       "      <td>[0.0134917801927]</td>\n",
       "    </tr>\n",
       "    <tr>\n",
       "      <th>83</th>\n",
       "      <td>SITE_google</td>\n",
       "      <td>[-0.115869897562]</td>\n",
       "    </tr>\n",
       "    <tr>\n",
       "      <th>84</th>\n",
       "      <td>SITE_instagram</td>\n",
       "      <td>[-0.0863616669976]</td>\n",
       "    </tr>\n",
       "    <tr>\n",
       "      <th>85</th>\n",
       "      <td>SITE_msn</td>\n",
       "      <td>[-0.406862195768]</td>\n",
       "    </tr>\n",
       "    <tr>\n",
       "      <th>86</th>\n",
       "      <td>SITE_other</td>\n",
       "      <td>[-0.383259587895]</td>\n",
       "    </tr>\n",
       "    <tr>\n",
       "      <th>87</th>\n",
       "      <td>SITE_pinterest</td>\n",
       "      <td>[-0.519652915994]</td>\n",
       "    </tr>\n",
       "    <tr>\n",
       "      <th>88</th>\n",
       "      <td>SITE_taboola</td>\n",
       "      <td>[-0.229275707516]</td>\n",
       "    </tr>\n",
       "    <tr>\n",
       "      <th>89</th>\n",
       "      <td>SITE_yahoo</td>\n",
       "      <td>[-0.330865501121]</td>\n",
       "    </tr>\n",
       "    <tr>\n",
       "      <th>90</th>\n",
       "      <td>M</td>\n",
       "      <td>[0.126748103086]</td>\n",
       "    </tr>\n",
       "    <tr>\n",
       "      <th>91</th>\n",
       "      <td>LOAN_AMT_NEEDED_LOG</td>\n",
       "      <td>[0.0321901768582]</td>\n",
       "    </tr>\n",
       "    <tr>\n",
       "      <th>92</th>\n",
       "      <td>CREATIVE_CAT_LRE</td>\n",
       "      <td>[-1.14944023631]</td>\n",
       "    </tr>\n",
       "    <tr>\n",
       "      <th>93</th>\n",
       "      <td>CREATIVE_CAT_MSQL</td>\n",
       "      <td>[-0.460787793594]</td>\n",
       "    </tr>\n",
       "    <tr>\n",
       "      <th>94</th>\n",
       "      <td>CREATIVE_CAT_MSQL-LEND</td>\n",
       "      <td>[-0.785343289499]</td>\n",
       "    </tr>\n",
       "    <tr>\n",
       "      <th>95</th>\n",
       "      <td>CREDIT_PROFILE_PARENT_DESC</td>\n",
       "      <td>[0.518787525008]</td>\n",
       "    </tr>\n",
       "    <tr>\n",
       "      <th>96</th>\n",
       "      <td>PROPERTY_MORTGAGE_1_INT</td>\n",
       "      <td>[0.152575872249]</td>\n",
       "    </tr>\n",
       "    <tr>\n",
       "      <th>97</th>\n",
       "      <td>CASH_OUT_FLG</td>\n",
       "      <td>[0.262696025428]</td>\n",
       "    </tr>\n",
       "    <tr>\n",
       "      <th>98</th>\n",
       "      <td>CASH_IN_FLG</td>\n",
       "      <td>[-0.342912463081]</td>\n",
       "    </tr>\n",
       "    <tr>\n",
       "      <th>99</th>\n",
       "      <td>USAA_FLG</td>\n",
       "      <td>[-0.166978890424]</td>\n",
       "    </tr>\n",
       "    <tr>\n",
       "      <th>100</th>\n",
       "      <td>AGE</td>\n",
       "      <td>[0.0159535668964]</td>\n",
       "    </tr>\n",
       "    <tr>\n",
       "      <th>101</th>\n",
       "      <td>OCCUPATION_STATUS_PARENT_DESC</td>\n",
       "      <td>[0.26131959802]</td>\n",
       "    </tr>\n",
       "    <tr>\n",
       "      <th>102</th>\n",
       "      <td>USABLEDISPLAYWIDTH</td>\n",
       "      <td>[0.0868107406316]</td>\n",
       "    </tr>\n",
       "    <tr>\n",
       "      <th>103</th>\n",
       "      <td>USABLEDISPLAYHEIGHT</td>\n",
       "      <td>[0.0122480671423]</td>\n",
       "    </tr>\n",
       "    <tr>\n",
       "      <th>104</th>\n",
       "      <td>DISPLAYPPI</td>\n",
       "      <td>[0.0]</td>\n",
       "    </tr>\n",
       "    <tr>\n",
       "      <th>105</th>\n",
       "      <td>DIAGONALSCREENSIZE</td>\n",
       "      <td>[0.0758336474624]</td>\n",
       "    </tr>\n",
       "    <tr>\n",
       "      <th>106</th>\n",
       "      <td>VETERAN_FLG</td>\n",
       "      <td>[0.099919199872]</td>\n",
       "    </tr>\n",
       "    <tr>\n",
       "      <th>107</th>\n",
       "      <td>REPEATINQUIRIES</td>\n",
       "      <td>[-0.0780832287821]</td>\n",
       "    </tr>\n",
       "  </tbody>\n",
       "</table>\n",
       "</div>"
      ],
      "text/plain": [
       "                                    0                    1\n",
       "0                              SR_1.0     [0.151689109138]\n",
       "1                              SR_2.0     [0.185245431214]\n",
       "2                              SR_3.0   [-0.0223923939263]\n",
       "3              REGION_E_NORTH_CENTRAL     [0.363622794925]\n",
       "4              REGION_E_SOUTH_CENTRAL    [0.0952743739518]\n",
       "5                 REGION_MID_ATLANTIC     [0.140327185215]\n",
       "6                     REGION_MOUNTAIN    [0.0840486052778]\n",
       "7                  REGION_NEW_ENGLAND     [0.109316439523]\n",
       "8                      REGION_PACIFIC    [-0.011178854417]\n",
       "9               REGION_SOUTH_ATLANTIC       [0.2884907567]\n",
       "10             REGION_W_NORTH_CENTRAL      [0.38546241143]\n",
       "11             REGION_W_SOUTH_CENTRAL      [0.16876591244]\n",
       "12                       CASH_OUT_LFG     [0.262696025428]\n",
       "13                  REPEATINQUIRIES_1   [-0.0780832287821]\n",
       "14                        LOG_MSA_POP  [-0.00344181881613]\n",
       "15                      LOG_LAND_AREA    [0.0354966379281]\n",
       "16                             H_ID_0    [-0.482253049374]\n",
       "17                             H_ID_1    [-0.233038940896]\n",
       "18                             H_ID_2   [-0.0962518887605]\n",
       "19                             H_ID_3    [-0.111603455703]\n",
       "20                             H_ID_4     [-0.16170763389]\n",
       "21                             H_ID_5     [-0.22657824955]\n",
       "22                             H_ID_6    [-0.403270548112]\n",
       "23                             H_ID_7    [-0.680867551778]\n",
       "24                            DOW_1.0    [-0.375945541498]\n",
       "25                            DOW_2.0    [-0.387037653366]\n",
       "26                            DOW_3.0    [-0.320036331784]\n",
       "27                            DOW_4.0    [-0.327097083879]\n",
       "28                            DOW_5.0    [-0.386716968535]\n",
       "29                            DOW_6.0    [-0.301764436005]\n",
       "30                            DOW_7.0    [-0.296973303307]\n",
       "31                      CHANNEL_Other     [0.337494437138]\n",
       "32                  CHANNEL_affiliate    [-0.866476194447]\n",
       "33                      CHANNEL_media    [-0.487927527744]\n",
       "34                     CHANNEL_native    [-0.441343426165]\n",
       "35               CHANNEL_searchengine    [-0.250502436076]\n",
       "36                     CHANNEL_social    [-0.686816171637]\n",
       "37                     P_CARRIER_AT&T     [-1.33629954299]\n",
       "38                    P_CARRIER_Other     [0.248323732056]\n",
       "39                   P_CARRIER_Sprint    [0.0311456909686]\n",
       "40                  P_CARRIER_Verizon     [-1.33874120137]\n",
       "41                      COUNTRY_Other     [-3.94384286505]\n",
       "42                         COUNTRY_US      [1.54827154104]\n",
       "43               SESSION_TIME_DUMMY_0     [-2.05323092299]\n",
       "44               SESSION_TIME_DUMMY_1     [-1.37654741077]\n",
       "45               SESSION_TIME_DUMMY_2      [-1.1120173008]\n",
       "46               SESSION_TIME_DUMMY_3    [-0.963789927483]\n",
       "47               SESSION_TIME_DUMMY_4    [-0.900359998799]\n",
       "48               SESSION_TIME_DUMMY_5    [-0.901499008532]\n",
       "49               SESSION_TIME_DUMMY_6    [-0.797314207495]\n",
       "50               SESSION_TIME_DUMMY_7    [-0.618621819584]\n",
       "51               SESSION_TIME_DUMMY_8    [-0.553423756971]\n",
       "52               SESSION_TIME_DUMMY_9    [-0.772456132983]\n",
       "53                     BROWSER_Chrome    [-0.100248592031]\n",
       "54              BROWSER_Chrome_Mobile    [-0.265717133608]\n",
       "55                       BROWSER_Edge    [0.0203972698621]\n",
       "56                    BROWSER_Firefox    [-0.251842922286]\n",
       "57          BROWSER_Internet_Explorer    [-0.161133728782]\n",
       "58   BROWSER_Internet_Explorer_Mobile    [-0.863080889892]\n",
       "59                      BROWSER_Other    [-0.304848580066]\n",
       "60                     BROWSER_Safari    [0.0886605035143]\n",
       "61            BROWSER_Samsung_Browser    [-0.557757244831]\n",
       "62                  DEVICE_MAKE_Apple    [-0.297964183888]\n",
       "63             DEVICE_MAKE_HTC_Google    [-0.570630285588]\n",
       "64                     DEVICE_MAKE_LG    [-0.269921415117]\n",
       "65              DEVICE_MAKE_Microsoft    [-0.392088035824]\n",
       "66               DEVICE_MAKE_Motorola      [0.12133799807]\n",
       "67                  DEVICE_MAKE_Other    [-0.276716170795]\n",
       "68                DEVICE_MAKE_Samsung     [0.070460221758]\n",
       "69                    DEVICE_MAKE_ZTE    [-0.780049447131]\n",
       "70                         Unemployed    [-0.727366395683]\n",
       "71                       OS__Android.    [-0.419787730508]\n",
       "72                         OS__Apple.    [-0.512170761024]\n",
       "73                         OS__Other.     [-1.45982768124]\n",
       "74                       OS__Windows.  [-0.00378514589312]\n",
       "75                     DEVICE_Desktop    [-0.625888708319]\n",
       "76                DEVICE_Mobile Phone    [-0.843602696197]\n",
       "77                      DEVICE_Tablet     [-0.92607991448]\n",
       "78               PHONE_TYPE_Land_Line    [-0.715070464771]\n",
       "79                   PHONE_TYPE_Other     [-1.53547223303]\n",
       "80                PHONE_TYPE_Wireless    [-0.145028620163]\n",
       "81                           SITE_aol    [-0.336915626466]\n",
       "82                      SITE_facebook    [0.0134917801927]\n",
       "83                        SITE_google    [-0.115869897562]\n",
       "84                     SITE_instagram   [-0.0863616669976]\n",
       "85                           SITE_msn    [-0.406862195768]\n",
       "86                         SITE_other    [-0.383259587895]\n",
       "87                     SITE_pinterest    [-0.519652915994]\n",
       "88                       SITE_taboola    [-0.229275707516]\n",
       "89                         SITE_yahoo    [-0.330865501121]\n",
       "90                                  M     [0.126748103086]\n",
       "91                LOAN_AMT_NEEDED_LOG    [0.0321901768582]\n",
       "92                   CREATIVE_CAT_LRE     [-1.14944023631]\n",
       "93                  CREATIVE_CAT_MSQL    [-0.460787793594]\n",
       "94             CREATIVE_CAT_MSQL-LEND    [-0.785343289499]\n",
       "95         CREDIT_PROFILE_PARENT_DESC     [0.518787525008]\n",
       "96            PROPERTY_MORTGAGE_1_INT     [0.152575872249]\n",
       "97                       CASH_OUT_FLG     [0.262696025428]\n",
       "98                        CASH_IN_FLG    [-0.342912463081]\n",
       "99                           USAA_FLG    [-0.166978890424]\n",
       "100                               AGE    [0.0159535668964]\n",
       "101     OCCUPATION_STATUS_PARENT_DESC      [0.26131959802]\n",
       "102                USABLEDISPLAYWIDTH    [0.0868107406316]\n",
       "103               USABLEDISPLAYHEIGHT    [0.0122480671423]\n",
       "104                        DISPLAYPPI                [0.0]\n",
       "105                DIAGONALSCREENSIZE    [0.0758336474624]\n",
       "106                       VETERAN_FLG     [0.099919199872]\n",
       "107                   REPEATINQUIRIES   [-0.0780832287821]"
      ]
     },
     "execution_count": 71,
     "metadata": {},
     "output_type": "execute_result"
    }
   ],
   "source": [
    "#Out of curiosity I want to looks at the coefficients\n",
    "pd.DataFrame(list(zip(training_features.columns, np.transpose(model.coef_))))"
   ]
  },
  {
   "cell_type": "code",
   "execution_count": 73,
   "metadata": {
    "collapsed": false
   },
   "outputs": [
    {
     "name": "stdout",
     "output_type": "stream",
     "text": [
      "[0 0 0 ..., 0 0 0]\n"
     ]
    }
   ],
   "source": [
    "#predict class labels for the test set\n",
    "predicted = model.predict(test_features)\n",
    "print(predicted)"
   ]
  },
  {
   "cell_type": "code",
   "execution_count": 75,
   "metadata": {
    "collapsed": false
   },
   "outputs": [
    {
     "name": "stdout",
     "output_type": "stream",
     "text": [
      "[[ 0.78892408  0.21107592]\n",
      " [ 0.60226006  0.39773994]\n",
      " [ 0.65006298  0.34993702]\n",
      " ..., \n",
      " [ 0.99679225  0.00320775]\n",
      " [ 0.59654643  0.40345357]\n",
      " [ 0.62766031  0.37233969]]\n"
     ]
    }
   ],
   "source": [
    "#generate class probabilities\n",
    "probs = model.predict_proba(test_features)\n",
    "print(probs)"
   ]
  },
  {
   "cell_type": "code",
   "execution_count": 77,
   "metadata": {
    "collapsed": false
   },
   "outputs": [
    {
     "name": "stdout",
     "output_type": "stream",
     "text": [
      "0.632669668529\n",
      "0.733662229037\n"
     ]
    }
   ],
   "source": [
    "print(metrics.accuracy_score(test_target, predicted))\n",
    "print(metrics.roc_auc_score(test_target, probs[:, 1]))"
   ]
  },
  {
   "cell_type": "code",
   "execution_count": 78,
   "metadata": {
    "collapsed": false
   },
   "outputs": [
    {
     "name": "stdout",
     "output_type": "stream",
     "text": [
      "[[11450  6676]\n",
      " [   95   212]]\n",
      "             precision    recall  f1-score   support\n",
      "\n",
      "          0       0.99      0.63      0.77     18126\n",
      "          1       0.03      0.69      0.06       307\n",
      "\n",
      "avg / total       0.98      0.63      0.76     18433\n",
      "\n"
     ]
    }
   ],
   "source": [
    "print(metrics.confusion_matrix(test_target, predicted))\n",
    "print(metrics.classification_report(test_target, predicted))"
   ]
  },
  {
   "cell_type": "code",
   "execution_count": 89,
   "metadata": {
    "collapsed": false
   },
   "outputs": [
    {
     "data": {
      "image/png": "[encoded data removed]",
      "text/plain": [
       "<matplotlib.figure.Figure at 0x216805e05f8>"
      ]
     },
     "metadata": {},
     "output_type": "display_data"
    }
   ],
   "source": [
    "### Now I'll plot the ROC curve\n",
    "import scikitplot.plotters as skplt\n",
    "import matplotlib.pyplot as plt\n",
    "\n",
    "#Calculate the fpr and tpr for all thresholds of the classification\n",
    "preds = probs[:,1]\n",
    "\n",
    "fpr, tpr, threshold = metrics.roc_curve(test_target, preds)\n",
    "roc_auc = metrics.auc(fpr, tpr)\n",
    "\n",
    "#Do the plot\n",
    "plt.title('Receiver Operating Characteristic')\n",
    "plt.plot(fpr, tpr, 'b', label = 'AUC = %0.2f' % roc_auc)\n",
    "plt.legend(loc = 'lower right')\n",
    "plt.plot([0, 1], [0, 1],'r--')\n",
    "plt.xlim([0, 1])\n",
    "plt.ylim([0, 1])\n",
    "plt.ylabel('True Positive Rate')\n",
    "plt.xlabel('False Positive Rate')\n",
    "plt.show()"
   ]
  },
  {
   "cell_type": "code",
   "execution_count": 96,
   "metadata": {
    "collapsed": false
   },
   "outputs": [
    {
     "name": "stdout",
     "output_type": "stream",
     "text": [
      "[ 0.98397009  0.98397009  0.98397009  0.98397971  0.98397971  0.98397971\n",
      "  0.98397971  0.98397971  0.98397971  0.98397971]\n",
      "\n",
      "10-fold cross validation mean score 0.983976825954\n"
     ]
    }
   ],
   "source": [
    "##Now let's look at cross validation\n",
    "#Using 10-fold cross validation\n",
    "scores = cross_val_score(LogisticRegression(), training_features, training_target, scoring='accuracy', cv=10)\n",
    "print(scores)\n",
    "print(\"\\n10-fold cross validation mean score\",scores.mean())"
   ]
  },
  {
   "cell_type": "code",
   "execution_count": 93,
   "metadata": {
    "collapsed": false
   },
   "outputs": [
    {
     "name": "stdout",
     "output_type": "stream",
     "text": [
      "Validation Results\n",
      "0.631699906083\n",
      "0.699757028809\n",
      "\n",
      "Test Results\n",
      "0.632669668529\n",
      "0.690553745928\n"
     ]
    }
   ],
   "source": [
    "#Now I want to look at the recall score to see how the model does on high value inquiries\n",
    "#update: the recall score is even better than the model score. good stuff\n",
    "print('Validation Results')\n",
    "print(model.score(x_val, y_val))\n",
    "print(recall_score(y_val, model.predict(x_val)))\n",
    "print('\\nTest Results')\n",
    "print(model.score(test_features, test_target))\n",
    "print(recall_score(test_target, model.predict(test_features)))"
   ]
  },
  {
   "cell_type": "code",
   "execution_count": 121,
   "metadata": {
    "collapsed": false
   },
   "outputs": [
    {
     "name": "stderr",
     "output_type": "stream",
     "text": [
      "[Parallel(n_jobs=1)]: Done 2500 out of 2500 | elapsed: 432.2min finished\n"
     ]
    },
    {
     "data": {
      "text/plain": [
       "RandomForestClassifier(bootstrap=True, class_weight=None, criterion='gini',\n",
       "            max_depth=None, max_features='auto', max_leaf_nodes=None,\n",
       "            min_impurity_split=1e-07, min_samples_leaf=1,\n",
       "            min_samples_split=2, min_weight_fraction_leaf=0.0,\n",
       "            n_estimators=2500, n_jobs=1, oob_score=False, random_state=0,\n",
       "            verbose=1, warm_start=False)"
      ]
     },
     "execution_count": 121,
     "metadata": {},
     "output_type": "execute_result"
    }
   ],
   "source": [
    "#Now I'll develop a Random Forest classifier to see if it picks up any non linear relationships\n",
    "#If it imporoves, I'll develop a xgboost algorithm\n",
    "from sklearn.ensemble import RandomForestClassifier\n",
    "rf = RandomForestClassifier(n_estimators=2500, random_state=0, verbose=1)\n",
    "\n",
    "rf.fit(x_train_res, y_train_res)"
   ]
  },
  {
   "cell_type": "code",
   "execution_count": 129,
   "metadata": {
    "collapsed": false
   },
   "outputs": [
    {
     "name": "stderr",
     "output_type": "stream",
     "text": [
      "[Parallel(n_jobs=1)]: Done 2500 out of 2500 | elapsed:   21.6s finished\n"
     ]
    }
   ],
   "source": [
    "phat = rf.predict_proba(test_features)[:,1]\n",
    "#phat_train = rf.predict_proba(x_train_res)[:,1]"
   ]
  },
  {
   "cell_type": "code",
   "execution_count": 123,
   "metadata": {
    "collapsed": false
   },
   "outputs": [
    {
     "name": "stdout",
     "output_type": "stream",
     "text": [
      "Test ROC score:  0.709241696111\n"
     ]
    }
   ],
   "source": [
    "print(\"Train ROC score: \", metrics.roc_auc_score(y_train_res, phat_train))\n",
    "print(\"Test ROC score: \", metrics.roc_auc_score(test_target, phat))"
   ]
  },
  {
   "cell_type": "code",
   "execution_count": 130,
   "metadata": {
    "collapsed": false
   },
   "outputs": [
    {
     "data": {
      "image/png": "[encoded data removed]",
      "text/plain": [
       "<matplotlib.figure.Figure at 0x216805cffd0>"
      ]
     },
     "metadata": {},
     "output_type": "display_data"
    }
   ],
   "source": [
    "fpr, tpr, threshold = metrics.roc_curve(test_target, phat)\n",
    "roc_auc = metrics.auc(fpr, tpr)\n",
    "\n",
    "#Do the plot\n",
    "plt.title('Receiver Operating Characteristic')\n",
    "plt.plot(fpr, tpr, 'b', label = 'AUC = %0.2f' % roc_auc)\n",
    "plt.legend(loc = 'lower right')\n",
    "plt.plot([0, 1], [0, 1],'r--')\n",
    "plt.xlim([0, 1])\n",
    "plt.ylim([0, 1])\n",
    "plt.ylabel('True Positive Rate')\n",
    "plt.xlabel('False Positive Rate')\n",
    "plt.show()"
   ]
  },
  {
   "cell_type": "code",
   "execution_count": 192,
   "metadata": {
    "collapsed": false
   },
   "outputs": [],
   "source": [
    "##Feature importances\n",
    "importances = rf.feature_importances_\n",
    "std = np.std([tree.feature_importances_ for tree in rf.estimators_],\n",
    "             axis=0)\n",
    "indices = np.argsort(importances)[::-1]"
   ]
  },
  {
   "cell_type": "code",
   "execution_count": 193,
   "metadata": {
    "collapsed": false
   },
   "outputs": [
    {
     "name": "stdout",
     "output_type": "stream",
     "text": [
      "Feature ranking:\n",
      "1. feature 90 (0.062835)\n",
      "2. feature 95 (0.057536)\n",
      "3. feature 96 (0.047894)\n",
      "4. feature 42 (0.036430)\n",
      "5. feature 41 (0.035168)\n",
      "6. feature 12 (0.033052)\n",
      "7. feature 97 (0.032285)\n",
      "8. feature 45 (0.031216)\n",
      "9. feature 46 (0.025125)\n",
      "10. feature 98 (0.023356)\n",
      "11. feature 92 (0.020290)\n",
      "12. feature 26 (0.019313)\n",
      "13. feature 80 (0.019027)\n",
      "14. feature 24 (0.018876)\n",
      "15. feature 18 (0.018770)\n",
      "16. feature 2 (0.018747)\n",
      "17. feature 78 (0.018648)\n",
      "18. feature 93 (0.018219)\n",
      "19. feature 27 (0.018110)\n",
      "20. feature 44 (0.018009)\n",
      "21. feature 28 (0.017611)\n",
      "22. feature 1 (0.016982)\n",
      "23. feature 106 (0.016863)\n",
      "24. feature 0 (0.016756)\n",
      "25. feature 19 (0.015810)\n",
      "26. feature 25 (0.015799)\n",
      "27. feature 20 (0.015707)\n",
      "28. feature 21 (0.015333)\n",
      "29. feature 47 (0.015042)\n",
      "30. feature 17 (0.014623)\n",
      "31. feature 50 (0.014064)\n",
      "32. feature 29 (0.013739)\n",
      "33. feature 91 (0.013384)\n",
      "34. feature 9 (0.012770)\n",
      "35. feature 30 (0.012680)\n",
      "36. feature 22 (0.011644)\n",
      "37. feature 14 (0.009757)\n",
      "38. feature 3 (0.009754)\n",
      "39. feature 48 (0.008920)\n",
      "40. feature 15 (0.008906)\n",
      "41. feature 100 (0.008830)\n",
      "42. feature 99 (0.007050)\n",
      "43. feature 49 (0.007013)\n",
      "44. feature 11 (0.006144)\n",
      "45. feature 101 (0.005859)\n",
      "46. feature 8 (0.004969)\n",
      "47. feature 5 (0.004963)\n",
      "48. feature 103 (0.004873)\n",
      "49. feature 107 (0.004739)\n",
      "50. feature 13 (0.004727)\n",
      "51. feature 10 (0.004588)\n",
      "52. feature 33 (0.004260)\n",
      "53. feature 38 (0.004199)\n",
      "54. feature 39 (0.004196)\n",
      "55. feature 83 (0.004123)\n",
      "56. feature 16 (0.003662)\n",
      "57. feature 82 (0.003512)\n",
      "58. feature 36 (0.003398)\n",
      "59. feature 4 (0.002964)\n",
      "60. feature 105 (0.002734)\n",
      "61. feature 53 (0.002574)\n",
      "62. feature 6 (0.002539)\n",
      "63. feature 35 (0.002456)\n",
      "64. feature 68 (0.002383)\n",
      "65. feature 86 (0.002311)\n",
      "66. feature 34 (0.002301)\n",
      "67. feature 57 (0.002289)\n",
      "68. feature 88 (0.002125)\n",
      "69. feature 94 (0.001879)\n",
      "70. feature 67 (0.001867)\n",
      "71. feature 102 (0.001833)\n",
      "72. feature 76 (0.001725)\n",
      "73. feature 72 (0.001678)\n",
      "74. feature 51 (0.001633)\n",
      "75. feature 54 (0.001631)\n",
      "76. feature 62 (0.001620)\n",
      "77. feature 60 (0.001605)\n",
      "78. feature 23 (0.001493)\n",
      "79. feature 7 (0.001468)\n",
      "80. feature 66 (0.001354)\n",
      "81. feature 74 (0.001262)\n",
      "82. feature 71 (0.001249)\n",
      "83. feature 56 (0.001243)\n",
      "84. feature 64 (0.001198)\n",
      "85. feature 55 (0.001110)\n",
      "86. feature 65 (0.001107)\n",
      "87. feature 81 (0.001023)\n",
      "88. feature 77 (0.000954)\n",
      "89. feature 75 (0.000772)\n",
      "90. feature 61 (0.000706)\n",
      "91. feature 52 (0.000571)\n",
      "92. feature 85 (0.000535)\n",
      "93. feature 32 (0.000527)\n",
      "94. feature 59 (0.000467)\n",
      "95. feature 31 (0.000410)\n",
      "96. feature 79 (0.000392)\n",
      "97. feature 87 (0.000378)\n",
      "98. feature 43 (0.000315)\n",
      "99. feature 63 (0.000272)\n",
      "100. feature 84 (0.000262)\n",
      "101. feature 69 (0.000251)\n",
      "102. feature 89 (0.000230)\n",
      "103. feature 70 (0.000090)\n",
      "104. feature 58 (0.000040)\n",
      "105. feature 37 (0.000019)\n",
      "106. feature 40 (0.000000)\n",
      "107. feature 73 (0.000000)\n",
      "108. feature 104 (0.000000)\n"
     ]
    }
   ],
   "source": [
    "# Print the feature ranking\n",
    "print(\"Feature ranking:\")\n",
    "\n",
    "for f in range(x_train_res.shape[1]):\n",
    "    print(\"%d. feature %d (%f)\" % (f + 1, indices[f], importances[indices[f]]))"
   ]
  },
  {
   "cell_type": "code",
   "execution_count": null,
   "metadata": {
    "collapsed": true
   },
   "outputs": [],
   "source": []
  },
  {
   "cell_type": "code",
   "execution_count": 195,
   "metadata": {
    "collapsed": false
   },
   "outputs": [
    {
     "data": {
      "image/png": "[encoded data removed]",
      "text/plain": [
       "<matplotlib.figure.Figure at 0x21681006160>"
      ]
     },
     "metadata": {},
     "output_type": "display_data"
    }
   ],
   "source": [
    "# Plot the feature importances of the forest\n",
    "plt.figure()\n",
    "plt.title(\"Feature importances\")\n",
    "plt.bar(range(x_train_res.shape[1]), importances[indices],\n",
    "       color=\"r\", yerr=std[indices], align=\"center\")\n",
    "plt.xticks(range(x_train_res.shape[1]), indices)\n",
    "plt.xlim([-1, x_train_res.shape[1]])\n",
    "plt.show()"
   ]
  },
  {
   "cell_type": "code",
   "execution_count": 164,
   "metadata": {
    "collapsed": false
   },
   "outputs": [
    {
     "name": "stdout",
     "output_type": "stream",
     "text": [
      "Current size: [9.0, 7.0]\n"
     ]
    }
   ],
   "source": [
    "# Get current size\n",
    "fig_size = plt.rcParams[\"figure.figsize\"]\n",
    " \n",
    "# Prints: [8.0, 6.0]\n",
    "print(\"Current size:\", fig_size)\n",
    " \n",
    "# Set figure width to 15 and height to 12\n",
    "fig_size[0] = 9\n",
    "fig_size[1] = 6\n",
    "plt.rcParams[\"figure.figsize\"] = fig_size"
   ]
  },
  {
   "cell_type": "code",
   "execution_count": 196,
   "metadata": {
    "collapsed": false
   },
   "outputs": [
    {
     "data": {
      "image/png": "[encoded data removed]",
      "text/plain": [
       "<matplotlib.figure.Figure at 0x216827b6ba8>"
      ]
     },
     "metadata": {},
     "output_type": "display_data"
    }
   ],
   "source": [
    "plt.figure()\n",
    "plt.title(\"Feature importances\")\n",
    "plt.bar(range(20), importances[indices][0:20],\n",
    "       color=\"r\", yerr=std[indices][0:20], align=\"center\")\n",
    "plt.xticks(range(20), indices[0:20])\n",
    "plt.xlim([-1, 20])\n",
    "plt.show()"
   ]
  },
  {
   "cell_type": "code",
   "execution_count": 204,
   "metadata": {
    "collapsed": false,
    "scrolled": false
   },
   "outputs": [
    {
     "data": {
      "image/png": "[encoded data removed]",
      "text/plain": [
       "<matplotlib.figure.Figure at 0x216815e4f60>"
      ]
     },
     "metadata": {},
     "output_type": "display_data"
    }
   ],
   "source": [
    "feats = {} \n",
    "for feature, importance in zip(df.columns, rf.feature_importances_):\n",
    "    feats[feature] = importance\n",
    "\n",
    "importances = pd.DataFrame.from_dict(feats, orient='index').rename(columns={0: 'Gini-importance'})\n",
    "importances = importances.sort_values(by='Gini-importance')\n",
    "importances[-15:-1].plot(kind='bar', rot=45)\n",
    "\n",
    "plt.show()"
   ]
  }
 ],
 "metadata": {
  "kernelspec": {
   "display_name": "Python 3",
   "language": "python",
   "name": "python3"
  },
  "language_info": {
   "codemirror_mode": {
    "name": "ipython",
    "version": 3
   },
   "file_extension": ".py",
   "mimetype": "text/x-python",
   "name": "python",
   "nbconvert_exporter": "python",
   "pygments_lexer": "ipython3",
   "version": "3.6.0"
  }
 },
 "nbformat": 4,
 "nbformat_minor": 2
}
